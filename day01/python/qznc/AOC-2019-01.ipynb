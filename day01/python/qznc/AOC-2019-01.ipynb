{
 "cells": [
  {
   "cell_type": "markdown",
   "metadata": {},
   "source": [
    "# Day 1: The Tyranny of the Rocket Equation\n",
    "\n",
    "[Examples from AOC website](https://adventofcode.com/2019/day/1):\n",
    "\n",
    "    For a mass of 12, divide by 3 and round down to get 4, then subtract 2 to get 2.\n",
    "    For a mass of 14, dividing by 3 and rounding down still yields 4, so the fuel required is also 2.\n",
    "    For a mass of 1969, the fuel required is 654.\n",
    "    For a mass of 100756, the fuel required is 33583.\n"
   ]
  },
  {
   "cell_type": "code",
   "execution_count": 44,
   "metadata": {},
   "outputs": [],
   "source": [
    "EXAMPLE = \"100756\".split()\n",
    "\n",
    "REAL = \"128167 65779 88190 144176 109054 70471 113510 81741 65270 111217 51707 81122 142720 65164 85045 85776 51332 110021 99706 50512 95429 149220 102777 93907 61769 66946 121583 132351 53809 73261 122964 120792 73998 79590 140881 53130 82498 72725 127422 143777 55787 95454 88293 107988 145145 59562 142929 132977 88825 104657 70644 124614 66443 117825 97016 79578 136114 64975 113838 63294 58466 76827 56288 126977 63815 129398 123017 118773 144464 60620 79084 94685 70854 148054 134179 113832 113742 115771 115543 73241 62914 146134 128066 52002 132377 100765 105048 59936 131324 137384 139352 127350 116249 79847 53530 99738 61969 118730 121980 72977\".split()"
   ]
  },
  {
   "cell_type": "code",
   "execution_count": 57,
   "metadata": {},
   "outputs": [
    {
     "name": "stdout",
     "output_type": "stream",
     "text": [
      "33583\n"
     ]
    }
   ],
   "source": [
    "import math\n",
    "def fuel(mass):\n",
    "    return math.floor(mass / 3) - 2\n",
    "\n",
    "def fuel_sum(masses):\n",
    "    return sum(fuel(int(x)) for x in masses)\n",
    "\n",
    "print(fuel_sum(EXAMPLE))"
   ]
  },
  {
   "cell_type": "code",
   "execution_count": 51,
   "metadata": {},
   "outputs": [
    {
     "name": "stdout",
     "output_type": "stream",
     "text": [
      "3263354\n"
     ]
    }
   ],
   "source": [
    "print(fuel_sum(REAL))"
   ]
  },
  {
   "cell_type": "markdown",
   "metadata": {},
   "source": [
    "# Part Two\n",
    "\n",
    "More examples:\n",
    "\n",
    "    A module of mass 14 requires 2 fuel. This fuel requires no further fuel (2 divided by 3 and rounded down is 0, which would call for a negative fuel), so the total fuel required is still just 2.\n",
    "    At first, a module of mass 1969 requires 654 fuel. Then, this fuel requires 216 more fuel (654 / 3 - 2). 216 then requires 70 more fuel, which requires 21 fuel, which requires 5 fuel, which requires no further fuel. So, the total fuel required for a module of mass 1969 is 654 + 216 + 70 + 21 + 5 = 966.\n",
    "    The fuel required by a module of mass 100756 and its fuel is: 33583 + 11192 + 3728 + 1240 + 411 + 135 + 43 + 12 + 2 = 50346.\n"
   ]
  },
  {
   "cell_type": "code",
   "execution_count": 42,
   "metadata": {},
   "outputs": [],
   "source": [
    "EXAMPLE = [\"100756\"]"
   ]
  },
  {
   "cell_type": "code",
   "execution_count": 61,
   "metadata": {},
   "outputs": [
    {
     "name": "stdout",
     "output_type": "stream",
     "text": [
      "50346\n",
      "\n",
      "4892166\n"
     ]
    }
   ],
   "source": [
    "def total_fuel(mass):\n",
    "    total = 0\n",
    "    additional = fuel(mass)\n",
    "    while additional > 0:\n",
    "        total += additional\n",
    "        additional = fuel(additional)\n",
    "    return total\n",
    "\n",
    "def total_fuel_sum(masses):\n",
    "    return sum(total_fuel(int(x)) for x in masses)\n",
    "\n",
    "print(total_fuel_sum(EXAMPLE))\n",
    "print()\n",
    "print(total_fuel_sum(REAL))"
   ]
  }
 ],
 "metadata": {
  "kernelspec": {
   "display_name": "Python 3",
   "language": "python",
   "name": "python3"
  },
  "language_info": {
   "codemirror_mode": {
    "name": "ipython",
    "version": 3
   },
   "file_extension": ".py",
   "mimetype": "text/x-python",
   "name": "python",
   "nbconvert_exporter": "python",
   "pygments_lexer": "ipython3",
   "version": "3.6.9"
  }
 },
 "nbformat": 4,
 "nbformat_minor": 4
}
